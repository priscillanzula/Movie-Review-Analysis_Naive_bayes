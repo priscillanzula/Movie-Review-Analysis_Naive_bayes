{
 "cells": [
  {
   "cell_type": "code",
   "execution_count": 50,
   "id": "f246333d-7228-45c5-a29b-a5560882c14a",
   "metadata": {},
   "outputs": [],
   "source": [
    "# pip install pandas numpy scikit-learn\n",
    "import os\n",
    "import re\n",
    "import math\n",
    "import json\n",
    "import random\n",
    "from collections import defaultdict, Counter\n",
    "from typing import List, Tuple\n",
    "\n",
    "import pandas as pd\n",
    "import numpy as np\n",
    "import seaborn as sns\n",
    "import matplotlib.pyplot as plt\n",
    "from sklearn.model_selection import train_test_split\n",
    "from sklearn.metrics import accuracy_score, precision_recall_fscore_support, confusion_matrix, classification_report\n",
    "\n",
    "RSEED = 42\n",
    "random.seed(RSEED)\n",
    "np.random.seed(RSEED)"
   ]
  },
  {
   "cell_type": "code",
   "execution_count": 2,
   "id": "bd09704f-6c80-4ab1-976c-f3ec7a6a2e96",
   "metadata": {},
   "outputs": [
    {
     "name": "stdout",
     "output_type": "stream",
     "text": [
      "                                              review sentiment\n",
      "0  One of the other reviewers has mentioned that ...  positive\n",
      "1  A wonderful little production. <br /><br />The...  positive\n",
      "2  I thought this was a wonderful way to spend ti...  positive\n",
      "3  Basically there's a family where a little boy ...  negative\n",
      "4  Petter Mattei's \"Love in the Time of Money\" is...  positive\n",
      "Rows: 50000\n"
     ]
    }
   ],
   "source": [
    "# load data\n",
    "df= pd.read_csv('IMDB Dataset.csv')\n",
    "print(df.head())\n",
    "print(\"Rows:\", len(df))"
   ]
  },
  {
   "cell_type": "code",
   "execution_count": 3,
   "id": "9d903ff4-8f79-44da-903f-97b4ca5f772a",
   "metadata": {},
   "outputs": [],
   "source": [
    "# shuffle to maintain the random distribution of the data and prevents ordering bias\n",
    "df = df.sample(frac=1, random_state=RSEED).reset_index(drop=True)"
   ]
  },
  {
   "cell_type": "markdown",
   "id": "1018afbf-fb06-4613-9b66-0c5dc1879fbc",
   "metadata": {},
   "source": [
    "### Text Preprocessing"
   ]
  },
  {
   "cell_type": "code",
   "execution_count": 4,
   "id": "a1116b4c-f5c2-4396-8fe6-50bb1f73cfa2",
   "metadata": {},
   "outputs": [],
   "source": [
    "STOPWORDS = set([\"the\",\"and\",\"a\",\"an\",\"is\",\"it\",\"to\",\"i\",\"this\",\"that\",\"in\",\"of\",\"was\",\"do\",\"were\",\"for\",\"with\",\"as\",\"movie\",\"film\"])"
   ]
  },
  {
   "cell_type": "code",
   "execution_count": 5,
   "id": "89841eab-7b23-4765-9deb-1ef26c28cb0a",
   "metadata": {},
   "outputs": [],
   "source": [
    "# Removeing the stopwords, Html tags, normaizing the case and spacing.\n",
    "# Keep only letters in the text.\n",
    "# split the text into small pieces by tokenization.\n",
    "def clean_text(text: str) -> List[str]:\n",
    "    text = text.lower()                         \n",
    "    text = re.sub(r\"<.*?>\", \" \", text)          \n",
    "    text = re.sub(r\"[^a-z\\s']\", \" \", text)       \n",
    "    text = re.sub(r\"\\s+\", \" \", text).strip()     \n",
    "    tokens = text.split()                        \n",
    "    tokens = [t for t in tokens if t not in STOPWORDS]  \n",
    "    return tokens"
   ]
  },
  {
   "cell_type": "code",
   "execution_count": 6,
   "id": "15d93091-2024-4ecf-9348-cfa9ece72956",
   "metadata": {},
   "outputs": [],
   "source": [
    "# Apply cleaning to every review\n",
    "df[\"cleaned\"] = df[\"review\"].apply(clean_text)"
   ]
  },
  {
   "cell_type": "code",
   "execution_count": 7,
   "id": "16afaa3b-a627-41bb-893a-1ba5eb165061",
   "metadata": {},
   "outputs": [],
   "source": [
    "X = df[\"cleaned\"].values  # Features (the review text)\n",
    "y = df[\"sentiment\"].values  # Labels (positive/negative)"
   ]
  },
  {
   "cell_type": "markdown",
   "id": "cb49712a-a64c-4530-8d78-4c15a99acbd6",
   "metadata": {},
   "source": [
    "#### Train-Test Split"
   ]
  },
  {
   "cell_type": "code",
   "execution_count": 8,
   "id": "38ee4a01-9685-4a47-b181-2ad8d2f2ee4a",
   "metadata": {},
   "outputs": [],
   "source": [
    "# split using 80/20 \n",
    "# use stratify=y: to ensure both sets have equal positive/negative proportion\n",
    "X_train, X_test, y_train, y_test = train_test_split(\n",
    "    X, y, test_size=0.20, random_state=RSEED, stratify=y\n",
    ")"
   ]
  },
  {
   "cell_type": "markdown",
   "id": "3f38235e-e705-4ffa-9d07-bb308b81d873",
   "metadata": {},
   "source": [
    "#### Naïve Bayes Implementation and ALgorithm"
   ]
  },
  {
   "cell_type": "code",
   "execution_count": 46,
   "id": "6b65e75a-cfbc-4139-8976-cf534538c9b7",
   "metadata": {},
   "outputs": [
    {
     "name": "stdout",
     "output_type": "stream",
     "text": [
      "Found classes: {'positive', 'negative'}\n",
      "Class priors: {'positive': 0.5, 'negative': 0.5}\n",
      "Processing training document 0/40000\n",
      "Processing training document 1000/40000\n",
      "Processing training document 2000/40000\n",
      "Processing training document 3000/40000\n",
      "Processing training document 4000/40000\n",
      "Processing training document 5000/40000\n",
      "Processing training document 6000/40000\n",
      "Processing training document 7000/40000\n",
      "Processing training document 8000/40000\n",
      "Processing training document 9000/40000\n",
      "Processing training document 10000/40000\n",
      "Processing training document 11000/40000\n",
      "Processing training document 12000/40000\n",
      "Processing training document 13000/40000\n",
      "Processing training document 14000/40000\n",
      "Processing training document 15000/40000\n",
      "Processing training document 16000/40000\n",
      "Processing training document 17000/40000\n",
      "Processing training document 18000/40000\n",
      "Processing training document 19000/40000\n",
      "Processing training document 20000/40000\n",
      "Processing training document 21000/40000\n",
      "Processing training document 22000/40000\n",
      "Processing training document 23000/40000\n",
      "Processing training document 24000/40000\n",
      "Processing training document 25000/40000\n",
      "Processing training document 26000/40000\n",
      "Processing training document 27000/40000\n",
      "Processing training document 28000/40000\n",
      "Processing training document 29000/40000\n",
      "Processing training document 30000/40000\n",
      "Processing training document 31000/40000\n",
      "Processing training document 32000/40000\n",
      "Processing training document 33000/40000\n",
      "Processing training document 34000/40000\n",
      "Processing training document 35000/40000\n",
      "Processing training document 36000/40000\n",
      "Processing training document 37000/40000\n",
      "Processing training document 38000/40000\n",
      "Processing training document 39000/40000\n",
      "Vocabulary size: 107883\n",
      "Words per class: {'positive': 3210061, 'negative': 3200431}\n",
      "Training completed!\n"
     ]
    }
   ],
   "source": [
    "\n",
    "# Initialize variables for Naive Bayes\n",
    "alpha = 1.0  \n",
    "vocab = set()\n",
    "classes = set(y_train)\n",
    "word_counts = {cls: Counter() for cls in classes}\n",
    "class_total_words = {cls: 0 for cls in classes}\n",
    "\n",
    "print(f\"Found classes: {classes}\")\n",
    "\n",
    "# Count class occurrences for prior probabilities\n",
    "class_counts = Counter(y_train)\n",
    "total_docs = len(y_train)\n",
    "\n",
    "# Calculate class priors P(class)\n",
    "class_priors = {cls: count / total_docs for cls, count in class_counts.items()}\n",
    "print(f\"Class priors: {class_priors}\")\n",
    "\n",
    "# Process each training document\n",
    "for i, (tokens, label) in enumerate(zip(X_train, y_train)):\n",
    "    if i % 1000 == 0:\n",
    "        print(f\"Processing training document {i}/{len(X_train)}\")\n",
    "    \n",
    "    # Update vocabulary\n",
    "    vocab.update(tokens)\n",
    "    \n",
    "    # Count word occurrences for this class\n",
    "    word_counts[label].update(tokens)\n",
    "    class_total_words[label] += len(tokens)\n",
    "\n",
    "vocab_size = len(vocab)\n",
    "print(f\"Vocabulary size: {vocab_size}\")\n",
    "print(f\"Words per class: {class_total_words}\")\n",
    "print(\"Training completed!\")\n"
   ]
  },
  {
   "cell_type": "markdown",
   "id": "0c93bf82-e083-433b-8825-79a83f500e4c",
   "metadata": {},
   "source": [
    "#### Prediction "
   ]
  },
  {
   "cell_type": "code",
   "execution_count": 47,
   "id": "ad396c92-18bd-4b99-9171-dd646c8730c6",
   "metadata": {},
   "outputs": [
    {
     "name": "stdout",
     "output_type": "stream",
     "text": [
      "Predicting document 0/10000\n",
      "Predicting document 500/10000\n",
      "Predicting document 1000/10000\n",
      "Predicting document 1500/10000\n",
      "Predicting document 2000/10000\n",
      "Predicting document 2500/10000\n",
      "Predicting document 3000/10000\n",
      "Predicting document 3500/10000\n",
      "Predicting document 4000/10000\n",
      "Predicting document 4500/10000\n",
      "Predicting document 5000/10000\n",
      "Predicting document 5500/10000\n",
      "Predicting document 6000/10000\n",
      "Predicting document 6500/10000\n",
      "Predicting document 7000/10000\n",
      "Predicting document 7500/10000\n",
      "Predicting document 8000/10000\n",
      "Predicting document 8500/10000\n",
      "Predicting document 9000/10000\n",
      "Predicting document 9500/10000\n",
      "Predictions completed!\n"
     ]
    }
   ],
   "source": [
    "predictions = []\n",
    "\n",
    "for i, tokens in enumerate(X_test):\n",
    "    if i % 500 == 0:\n",
    "        print(f\"Predicting document {i}/{len(X_test)}\")\n",
    "    \n",
    "    class_scores = {}\n",
    "    \n",
    "    # Calculate score for each class\n",
    "    for cls in classes:\n",
    "        # Start with log prior probability\n",
    "        log_score = math.log(class_priors[cls])\n",
    "        \n",
    "        # Calculate denominator for Laplace smoothing\n",
    "        denominator = class_total_words[cls] + alpha * vocab_size\n",
    "        \n",
    "        # Add log likelihood for each word\n",
    "        for token in tokens:\n",
    "            # Get word count in this class (0 if not found)\n",
    "            word_count = word_counts[cls].get(token, 0)\n",
    "            \n",
    "            # Apply Laplace smoothing\n",
    "            numerator = word_count + alpha\n",
    "            \n",
    "            # Add log probability\n",
    "            log_score += math.log(numerator / denominator)\n",
    "        \n",
    "        class_scores[cls] = log_score\n",
    "    \n",
    "    # Get class with highest score\n",
    "    predicted_class = max(class_scores, key=class_scores.get)\n",
    "    predictions.append(predicted_class)\n",
    "\n",
    "print(\"Predictions completed!\")\n",
    "\n"
   ]
  },
  {
   "cell_type": "markdown",
   "id": "f4e1b302-8b9d-4ff5-a1e7-0fcc5ea09222",
   "metadata": {},
   "source": [
    "#### Model Evaluation "
   ]
  },
  {
   "cell_type": "code",
   "execution_count": 58,
   "id": "c7e93431-962c-4055-923c-2548ca1a0839",
   "metadata": {},
   "outputs": [
    {
     "name": "stdout",
     "output_type": "stream",
     "text": [
      "Accuracy: 0.8524\n",
      "Precision: 0.8539\n",
      "Recall: 0.8524\n",
      "F1-Score: 0.8522\n",
      "\n",
      "Detailed Classification Report:\n",
      "              precision    recall  f1-score   support\n",
      "\n",
      "    negative       0.83      0.89      0.86      5000\n",
      "    positive       0.88      0.82      0.85      5000\n",
      "\n",
      "    accuracy                           0.85     10000\n",
      "   macro avg       0.85      0.85      0.85     10000\n",
      "weighted avg       0.85      0.85      0.85     10000\n",
      "\n",
      "\n",
      "Confusion Matrix:\n",
      "[[4427  573]\n",
      " [ 903 4097]]\n"
     ]
    },
    {
     "data": {
      "image/png": "[encoded data removed]",
      "text/plain": [
       "<Figure size 800x600 with 2 Axes>"
      ]
     },
     "metadata": {},
     "output_type": "display_data"
    }
   ],
   "source": [
    " #Calculate accuracy\n",
    "accuracy = accuracy_score(y_test, predictions)\n",
    "precision, recall, f1, _ = precision_recall_fscore_support(\n",
    "    y_test, predictions, average='weighted'\n",
    ")\n",
    "\n",
    "print(f\"Accuracy: {accuracy:.4f}\")\n",
    "print(f\"Precision: {precision:.4f}\")\n",
    "print(f\"Recall: {recall:.4f}\")\n",
    "print(f\"F1-Score: {f1:.4f}\")\n",
    "\n",
    "# Detailed classification report\n",
    "print(\"\\nDetailed Classification Report:\")\n",
    "print(classification_report(y_test, predictions))\n",
    "\n",
    "# Confusion Matrix\n",
    "cm = confusion_matrix(y_test, predictions)\n",
    "print(\"\\nConfusion Matrix:\")\n",
    "print(cm)\n",
    "\n",
    "# Plot confusion matrix\n",
    "plt.figure(figsize=(8, 6))\n",
    "sns.heatmap(cm, annot=True, fmt='d', cmap='Blues', \n",
    "           xticklabels=list(classes), yticklabels=list(classes))\n",
    "plt.title('Confusion Matrix')\n",
    "plt.xlabel('Predicted')\n",
    "plt.ylabel('Actual')\n",
    "plt.show()"
   ]
  },
  {
   "cell_type": "markdown",
   "id": "4d35349a-bb61-43c5-8f10-a78e1d9922ac",
   "metadata": {},
   "source": [
    "### Error Analysis"
   ]
  },
  {
   "cell_type": "code",
   "execution_count": 52,
   "id": "7bf2a235-bf7e-4bbb-8544-5a2286fbf7aa",
   "metadata": {},
   "outputs": [
    {
     "name": "stdout",
     "output_type": "stream",
     "text": [
      "Total errors: 1476\n",
      "Error rate: 0.1476\n",
      "\n",
      "Showing first 10 misclassified examples:\n",
      "\n",
      "Misclassified Example 1:\n",
      "Text: adenoid hynkel lowly soldier world war one rises subsequent years become ruthless dictator toumania he creates aggressive antisemitic war machine cultivates little toothbrush moustache sound like anyone you know from...\n",
      "True label: negative\n",
      "Predicted label: positive\n",
      "\n",
      "Misclassified Example 2:\n",
      "Text: ok so by minute there's still no dialogue arrived me padded sack from down under sharpie encrypted info on front am programmer from north american fest mod love sent thru...\n",
      "True label: positive\n",
      "Predicted label: negative\n",
      "\n",
      "Misclassified Example 3:\n",
      "Text: theme controversial depiction hypocritical sexually starved india excellent nothing more there lack good dialogues why english there lack continuity lack passion emotion acting...\n",
      "True label: positive\n",
      "Predicted label: negative\n",
      "\n",
      "Misclassified Example 4:\n",
      "Text: just before dawn one those really good slashers send chills down your spine every time you watch has great suspense great acting very well done camera work nice job mr...\n",
      "True label: positive\n",
      "Predicted label: negative\n",
      "\n",
      "Misclassified Example 5:\n",
      "Text: imagine complete opposite lawrence arabia instead having all male cast has all female cast instead being set barren deserts arabia set bulging metropolis new york city instead being one greatest...\n",
      "True label: negative\n",
      "Predicted label: positive\n",
      "\n",
      "Misclassified Example 6:\n",
      "Text: romance which also its main theme good nicely presented however surrounding love story too lyric graphical unrealistic even worse psychology main character weird incomprehensible exactly like end don't hesitate watch...\n",
      "True label: positive\n",
      "Predicted label: negative\n",
      "\n",
      "Misclassified Example 7:\n",
      "Text: wow praise imdb google have been trying remember name f'ing awesome over years now slaughter high man hells yeah i'm not going bore you plot summary actors yadda yadda yadda...\n",
      "True label: positive\n",
      "Predicted label: negative\n",
      "\n",
      "Misclassified Example 8:\n",
      "Text: sick man carleton hendricks dee snider cruises teen chat lines captain howdy he poses teenage boy invites other teens over his house party he instead knocks them out strips them...\n",
      "True label: positive\n",
      "Predicted label: negative\n",
      "\n",
      "Misclassified Example 9:\n",
      "Text: consider myself be bit snob when comes everything although cinematic experience more suited explosions than high drama can be very stuck up about films too not all art films however...\n",
      "True label: negative\n",
      "Predicted label: positive\n",
      "\n",
      "Misclassified Example 10:\n",
      "Text: found charming nobody else but kiarostami can so little yet get so much you might think i'm weird but so charmed couldn't speak during while during other movies comment lot...\n",
      "True label: positive\n",
      "Predicted label: negative\n"
     ]
    }
   ],
   "source": [
    "# Find misclassified examples\n",
    "errors = []\n",
    "for i, (tokens, true_label, pred_label) in enumerate(zip(X_test, y_test, predictions)):\n",
    "    if true_label != pred_label:\n",
    "        errors.append((i, tokens, true_label, pred_label))\n",
    "\n",
    "print(f\"Total errors: {len(errors)}\")\n",
    "print(f\"Error rate: {len(errors)/len(y_test):.4f}\")\n",
    "\n",
    "# Show some misclassified examples\n",
    "num_examples = min(10, len(errors))\n",
    "print(f\"\\nShowing first {num_examples} misclassified examples:\")\n",
    "\n",
    "for i, (idx, tokens, true, pred) in enumerate(errors[:num_examples]):\n",
    "    text_preview = \" \".join(tokens[:30])  # First 30 tokens\n",
    "    \n",
    "    print(f\"\\nMisclassified Example {i+1}:\")\n",
    "    print(f\"Text: {text_preview}...\")\n",
    "    print(f\"True label: {true}\")\n",
    "    print(f\"Predicted label: {pred}\")"
   ]
  },
  {
   "cell_type": "markdown",
   "id": "1e539f15-b9ee-42f0-8f8f-54c2d415b647",
   "metadata": {},
   "source": [
    "#### Analyzing feature importance"
   ]
  },
  {
   "cell_type": "code",
   "execution_count": 57,
   "id": "e4ac1c4e-76ef-41cf-bb47-9a969c56a31e",
   "metadata": {},
   "outputs": [
    {
     "name": "stdout",
     "output_type": "stream",
     "text": [
      "\n",
      "Top 15 words for class 'positive':\n",
      "   1. but             (count: 32461, prob: 0.009784)\n",
      "   2. his             (count: 26898, prob: 0.008107)\n",
      "   3. on              (count: 26781, prob: 0.008072)\n",
      "   4. you             (count: 23575, prob: 0.007106)\n",
      "   5. are             (count: 23337, prob: 0.007034)\n",
      "   6. he              (count: 22803, prob: 0.006873)\n",
      "   7. not             (count: 22596, prob: 0.006811)\n",
      "   8. one             (count: 21603, prob: 0.006511)\n",
      "   9. be              (count: 19586, prob: 0.005903)\n",
      "  10. have            (count: 19583, prob: 0.005902)\n",
      "  11. by              (count: 18921, prob: 0.005703)\n",
      "  12. all             (count: 18541, prob: 0.005588)\n",
      "  13. at              (count: 17910, prob: 0.005398)\n",
      "  14. who             (count: 17269, prob: 0.005205)\n",
      "  15. from            (count: 16594, prob: 0.005002)\n",
      "\n",
      "Top 15 words for class 'negative':\n",
      "   1. but             (count: 34303, prob: 0.010369)\n",
      "   2. on              (count: 27569, prob: 0.008334)\n",
      "   3. not             (count: 25897, prob: 0.007828)\n",
      "   4. you             (count: 24637, prob: 0.007447)\n",
      "   5. have            (count: 24550, prob: 0.007421)\n",
      "   6. are             (count: 23469, prob: 0.007094)\n",
      "   7. be              (count: 23022, prob: 0.006959)\n",
      "   8. one             (count: 20803, prob: 0.006288)\n",
      "   9. at              (count: 19794, prob: 0.005983)\n",
      "  10. his             (count: 19196, prob: 0.005803)\n",
      "  11. he              (count: 19166, prob: 0.005794)\n",
      "  12. they            (count: 19141, prob: 0.005786)\n",
      "  13. all             (count: 19087, prob: 0.005770)\n",
      "  14. so              (count: 18156, prob: 0.005488)\n",
      "  15. like            (count: 18127, prob: 0.005480)\n"
     ]
    }
   ],
   "source": [
    "\n",
    "top_n = 15\n",
    "for cls in classes:\n",
    "    print(f\"\\nTop {top_n} words for class '{cls}':\")\n",
    "    \n",
    "    # Calculate probability for each word in this class\n",
    "    word_probs = {}\n",
    "    total_words = class_total_words[cls]\n",
    "    \n",
    "    for word in vocab:\n",
    "        count = word_counts[cls].get(word, 0)\n",
    "        if count > 0:  # Only consider words that appear in this class\n",
    "            prob = (count + alpha) / (total_words + alpha * vocab_size)\n",
    "            word_probs[word] = (prob, count)\n",
    "    \n",
    "    # Sort by probability and show top words\n",
    "    top_words = sorted(word_probs.items(), key=lambda x: x[1][0], reverse=True)\n",
    "    \n",
    "    for i, (word, (prob, count)) in enumerate(top_words[:top_n]):\n",
    "        print(f\"  {i+1:2d}. {word:<15} (count: {count:4d}, prob: {prob:.6f})\")\n"
   ]
  },
  {
   "cell_type": "markdown",
   "id": "88abd497-271f-46f8-b1e2-1c463dcfd5b3",
   "metadata": {},
   "source": [
    "#### Aligorithm Analysis\n",
    "1. Feature extraction and preprocessing where the:\n",
    "   - Raw text to lowercase conversion and  HTML tag removal\n",
    "   - Punctuation removal, tokenization and Stopword filtering\n",
    "   - Vocabulary building from training data only\n",
    "   \n",
    "\n",
    "2. Naive Bayes Model Implementation using:\n",
    "   - Multinomial Naive Bayes with Laplace smoothing (alpha=1.0)\n",
    "   - Log probabilities used to prevent numerical underflow\n",
    "   - Independence assumption: P(word1, word2|class) = P(word1|class) * P(word2|class)\n",
    "   "
   ]
  },
  {
   "cell_type": "markdown",
   "id": "1c6e64d8-eb96-4c01-91e6-f4e523bb7d90",
   "metadata": {},
   "source": [
    "#### Challenges \n",
    "1. Zero Probability Management: \n",
    "   Naïve Bayes faces the issue that unseen words can yield zero probabilities, which would nullify the entire classification product.\n",
    "   To address this, Laplace smoothing with α=1.0 adds pseudocounts to all word occurrences, ensuring no probability is ever exactly zero.\n",
    "\n",
    "2. Numerical Stability:\n",
    "   Directly multiplying many small probabilities risks underflow . \n",
    "   Naïve Bayes avoids this by operating in log space, where multiplication is replaced by addition, preserving numerical stability.\n",
    "       \n",
    "3. Vocabulary Scaling:\n",
    "   With very large vocabularies, memory and runtime can grow significantly.\n",
    "   Naïve Bayes handles this by applying stopword removal and vocabulary pruning, balancing information retention with computational efficiency.\n",
    "       \n",
    "4. Class Distribution:\n",
    "   Naïve Bayes might over-predict the majority class when using imbalanced dataset. \n",
    "   The implementation mitigates this by using stratified train-test splits, ensuring class proportions are preserved, while the learned prior probabilities still reflect the true distribution."
   ]
  },
  {
   "cell_type": "markdown",
   "id": "35bc0e98-a2f1-4aa9-b0d4-22d5c47086b7",
   "metadata": {},
   "source": [
    "#### Future Recommendations\n",
    "1. Implement feature selection techniques beyond basic stopword removal to reduce vocabulary size while preserving discriminative power.\n",
    "\n",
    "2. Evaluate the independence assumption's impact on your specific domain, as text data often exhibits strong word dependencies that Naive Bayes cannot capture.\n",
    "\n",
    "3. Implement cross-validation for more robust performance estimation and hyperparameter optimization.\n",
    "    "
   ]
  },
  {
   "cell_type": "markdown",
   "id": "424e4fef-9cfc-4993-82cd-eb21d2dbeabb",
   "metadata": {},
   "source": [
    "#### Conclusion\n",
    "  - The implementation successfully achieves 85.24% accuracy on a substantial dataset of 50,000 documents with a vocabulary exceeding 107,000 words.\n",
    "\n",
    "  - The results validate Naive Bayes as an effective baseline for text classification, particularly given its computational efficiency and interpretability.\n",
    "\n",
    "  - The independence assumption and sensitivity to feature relevance highlight opportunities for improvement via enhanced feature engineering or more advanced models."
   ]
  },
  {
   "cell_type": "markdown",
   "id": "d560527a-0873-4723-b71b-8d9262442823",
   "metadata": {},
   "source": [
    "#### Deployment\n"
   ]
  },
  {
   "cell_type": "code",
   "execution_count": 59,
   "id": "17668d36-098e-414d-99c3-dc1b323f3fb5",
   "metadata": {},
   "outputs": [],
   "source": [
    "import json\n",
    "\n",
    "model_obj = {\n",
    "    \"vocab\": list(vocab),\n",
    "    \"word_counts\": {cls: dict(word_counts[cls]) for cls in word_counts},\n",
    "    \"class_total_words\": class_total_words,\n",
    "    \"class_priors\": class_priors,\n",
    "    \"alpha\": alpha\n",
    "}\n",
    "\n",
    "with open(\"nb_model.json\", \"w\", encoding=\"utf-8\") as f:\n",
    "    json.dump(model_obj, f)\n"
   ]
  },
  {
   "cell_type": "code",
   "execution_count": null,
   "id": "786be3a0-afbb-4f48-bb2f-8a90521dd367",
   "metadata": {},
   "outputs": [],
   "source": []
  }
 ],
 "metadata": {
  "kernelspec": {
   "display_name": "Python (tf-env)",
   "language": "python",
   "name": "tf-env"
  },
  "language_info": {
   "codemirror_mode": {
    "name": "ipython",
    "version": 3
   },
   "file_extension": ".py",
   "mimetype": "text/x-python",
   "name": "python",
   "nbconvert_exporter": "python",
   "pygments_lexer": "ipython3",
   "version": "3.10.13"
  }
 },
 "nbformat": 4,
 "nbformat_minor": 5
}
